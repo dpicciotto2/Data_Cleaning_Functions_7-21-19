{
 "cells": [
  {
   "cell_type": "code",
   "execution_count": 3,
   "metadata": {},
   "outputs": [],
   "source": [
    "##This work in progress file combines useful functions for cleaning data sets\n",
    "    ## File Created 7-21 by Dan Picciotto"
   ]
  },
  {
   "cell_type": "markdown",
   "metadata": {},
   "source": [
    "#### See Column Headers\n"
   ]
  },
  {
   "cell_type": "code",
   "execution_count": null,
   "metadata": {},
   "outputs": [],
   "source": [
    "df.columns \n",
    "# Shows the titles of columns in data frame, produces as an index and will truncate if there are a lot of columns"
   ]
  },
  {
   "cell_type": "markdown",
   "metadata": {},
   "source": [
    "#### Select column with dot notation\n"
   ]
  },
  {
   "cell_type": "code",
   "execution_count": null,
   "metadata": {},
   "outputs": [],
   "source": [
    "col1 = df.col1\n",
    "#create variable using dot notation "
   ]
  },
  {
   "cell_type": "markdown",
   "metadata": {},
   "source": [
    "#### Check type of a column and Select column\n"
   ]
  },
  {
   "cell_type": "code",
   "execution_count": null,
   "metadata": {},
   "outputs": [],
   "source": [
    "col1 = df['col1']\n",
    "type(col1)\n",
    "#create variable col1 from df column with same name. Use function type() "
   ]
  },
  {
   "cell_type": "markdown",
   "metadata": {},
   "source": [
    "#### Select Element from column\n"
   ]
  },
  {
   "cell_type": "code",
   "execution_count": null,
   "metadata": {},
   "outputs": [],
   "source": [
    "col1[0]\n",
    "#Using the col1 variale from above, show value at row 0"
   ]
  },
  {
   "cell_type": "markdown",
   "metadata": {},
   "source": [
    "#### Slice the column\n",
    "\n"
   ]
  },
  {
   "cell_type": "code",
   "execution_count": null,
   "metadata": {},
   "outputs": [],
   "source": [
    "col1[2:5] \n",
    "#Shows values of variable from rows 2-5 with an index"
   ]
  },
  {
   "cell_type": "markdown",
   "metadata": {},
   "source": [
    "#### Add Column\n"
   ]
  },
  {
   "cell_type": "code",
   "execution_count": null,
   "metadata": {},
   "outputs": [],
   "source": [
    "Need to Use Dictionairy Function\n",
    "Ex:\n",
    "df['col7'] = col3 + col4 /10"
   ]
  },
  {
   "cell_type": "markdown",
   "metadata": {},
   "source": [
    "#### Clean data columns using replace \n",
    "--> create a function that cleans specefic columns\n",
    "\n",
    "\n",
    "    "
   ]
  },
  {
   "cell_type": "code",
   "execution_count": null,
   "metadata": {},
   "outputs": [],
   "source": [
    "def cleandf(df):\n",
    "    col3/= 100.0  --> divide col 3 by 100 and turn into floating point value\n",
    "    \n",
    "    na_vals = [97,98,99]  #--> Create variable that stores values we need to match in column in order to replace them. \n",
    "    #In this example 97,98,99 are categorical variable that describe an event, as opposed to a data point.\n",
    "    #For example, birth weights of a baby range from 5-16 or so pounds, \n",
    "    #it is imposible to have human baby born at weights of na_vals, \n",
    "    #instead they may represent something like not ascertained, refused to provide, or dont know. \n",
    "    #Often recoded values. \n",
    "    df.col5.replace(na_vals , np.nan, inplace=True) \n",
    "    #--> finds values equal to na_vals in column, replaces with numpy nan, using inplace =True, replaces value in the column\n",
    "    # and does not create a new one\n",
    "    "
   ]
  },
  {
   "cell_type": "markdown",
   "metadata": {},
   "source": [
    "#### Clean column by using loc"
   ]
  },
  {
   "cell_type": "code",
   "execution_count": null,
   "metadata": {},
   "outputs": [],
   "source": [
    "# using example above, we can add another line to the cleandf function\n",
    "#if there is an impossile outlier, we can replace it. \n",
    "# EXample\n",
    "    df.loc[df.col2 > 20, 'col2'] = np.nan]\n",
    "    \n",
    "#the attribute loc allows multiple ways to select rows in columns.\n",
    "#In this example we are using df.col2>20 to find the rows where col2 has a value over 20.  \n",
    "# 'col2' , selecting the column labeled col2 \n",
    "# we will then turn those values into nan values\n"
   ]
  }
 ],
 "metadata": {
  "kernelspec": {
   "display_name": "Python 3",
   "language": "python",
   "name": "python3"
  },
  "language_info": {
   "codemirror_mode": {
    "name": "ipython",
    "version": 3
   },
   "file_extension": ".py",
   "mimetype": "text/x-python",
   "name": "python",
   "nbconvert_exporter": "python",
   "pygments_lexer": "ipython3",
   "version": "3.6.4"
  }
 },
 "nbformat": 4,
 "nbformat_minor": 2
}
